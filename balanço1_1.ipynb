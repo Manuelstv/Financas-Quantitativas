{
  "nbformat": 4,
  "nbformat_minor": 0,
  "metadata": {
    "colab": {
      "name": "balanço1.1",
      "provenance": [],
      "collapsed_sections": [],
      "include_colab_link": true
    },
    "kernelspec": {
      "name": "python3",
      "display_name": "Python 3"
    }
  },
  "cells": [
    {
      "cell_type": "markdown",
      "metadata": {
        "id": "view-in-github",
        "colab_type": "text"
      },
      "source": [
        "<a href=\"https://colab.research.google.com/github/Manuelstv/Valuation/blob/main/balan%C3%A7o1_1.ipynb\" target=\"_parent\"><img src=\"https://colab.research.google.com/assets/colab-badge.svg\" alt=\"Open In Colab\"/></a>"
      ]
    },
    {
      "cell_type": "markdown",
      "metadata": {
        "id": "iCq8-iUqApk6"
      },
      "source": [
        "Será que o valores dos múltiplos  de uma empresa (Preço/lucro, preço/receita,etc) são informações relevantes ao se investir em ações com foco no longo prazo? Será que poderiamos esperar um retorno maior nos investimentos quando os múltiplos das ações estão historicamente baixos em relação aos valores históricos? Segundo os seguidores do value investing, a resposta para essas perguntas é sim! O investidor inteligente deveria se aproveitar da irracionalidade do mercado e comprar ativos abaixo do seu valor intrinseco, no momento que eles estão baratos: \"Compre ao som dos canhões e venda ao som dos violinos\". Nesse estudo, procuramos avaliar o retorno de uma carteira de ações em função de determinados múltiplos como o preço/receita, preço/lucro, preço/ebit... e examinar se de fato podemos obter retornos maiores se investirmos quando os múltiplos estão historicamente baixos.\n",
        "\n",
        "\n",
        "Para isso foram utilizadas duas fontes de dados: Os dados dos demonstrativos financenciros disponibilizados publicamente pela CVM e dados das cotações das ações disponibilizadas pelo yahoo finance.\n",
        "\n",
        "\n",
        "Esses estudos foram inspirados em vídeos feitos por Magnus Pedersen, que fez uma análise semelhante para o mercado americano. Infelzmente os dados publicos do mercado brasileiro são muito mais escassos o que impossibilita uma análise mais rigorosa. os videos podem ser acessados em: https://www.youtube.com/watch?v=u7Uv1uba8eg&list=PL9Hr9sNUjfsnzc1XrcXOl1PDLm6ESUAE1\n",
        "\n",
        "\n",
        "Uma análise semelhante foi feita pelo economista Robert Shiller (https://en.wikipedia.org/wiki/Cyclically_adjusted_price-to-earnings_ratio). O que deu origem a um índice chamado de índice cape (ciclically adjusted price to earning ratio).  "
      ]
    },
    {
      "cell_type": "code",
      "metadata": {
        "id": "UTM7ujioRwRq",
        "outputId": "bc479cba-8e13-43a3-c8fa-e65e5583e459",
        "colab": {
          "base_uri": "https://localhost:8080/",
          "height": 645
        }
      },
      "source": [
        "!pip install wget\n",
        "import numpy as np\n",
        "import datetime\n",
        "import pandas as pd\n",
        "import matplotlib.pyplot as plt\n",
        "from matplotlib import style\n",
        "import pandas_datareader.data as web\n",
        "import seaborn as sns\n",
        "import random\n",
        "from numpy import NaN\n",
        "import plotly.graph_objs as go\n",
        "from datetime import datetime\n",
        "\n",
        "from sklearn.preprocessing import StandardScaler\n",
        "from sklearn.linear_model import LinearRegression\n",
        "from sklearn.preprocessing import PolynomialFeatures\n",
        "from sklearn.pipeline import make_pipeline\n",
        "\n",
        "import wget\n",
        "from zipfile import ZipFile\n",
        "\n",
        "plt.rcParams['figure.figsize'] = (12.5,4.5)\n",
        "plt.rcParams.update({'font.size': 10})\n",
        "\n",
        "import warnings\n",
        "warnings.filterwarnings('ignore')\n",
        "\n",
        "!pip install yfinance --upgrade --no-cache-dir\n",
        "import yfinance as yf\n",
        "yf.pdr_override()\n",
        "\n",
        "from scipy.stats import norm,t"
      ],
      "execution_count": null,
      "outputs": [
        {
          "output_type": "stream",
          "text": [
            "Collecting wget\n",
            "  Downloading https://files.pythonhosted.org/packages/47/6a/62e288da7bcda82b935ff0c6cfe542970f04e29c756b0e147251b2fb251f/wget-3.2.zip\n",
            "Building wheels for collected packages: wget\n",
            "  Building wheel for wget (setup.py) ... \u001b[?25l\u001b[?25hdone\n",
            "  Created wheel for wget: filename=wget-3.2-cp36-none-any.whl size=9682 sha256=108e0a6d3bb72594032a282591b7333551f3467dea6a943670114e2c397aa954\n",
            "  Stored in directory: /root/.cache/pip/wheels/40/15/30/7d8f7cea2902b4db79e3fea550d7d7b85ecb27ef992b618f3f\n",
            "Successfully built wget\n",
            "Installing collected packages: wget\n",
            "Successfully installed wget-3.2\n",
            "Collecting yfinance\n",
            "  Downloading https://files.pythonhosted.org/packages/7a/e8/b9d7104d3a4bf39924799067592d9e59119fcfc900a425a12e80a3123ec8/yfinance-0.1.55.tar.gz\n",
            "Requirement already satisfied, skipping upgrade: pandas>=0.24 in /usr/local/lib/python3.6/dist-packages (from yfinance) (1.1.2)\n",
            "Requirement already satisfied, skipping upgrade: numpy>=1.15 in /usr/local/lib/python3.6/dist-packages (from yfinance) (1.18.5)\n",
            "Requirement already satisfied, skipping upgrade: requests>=2.20 in /usr/local/lib/python3.6/dist-packages (from yfinance) (2.23.0)\n",
            "Requirement already satisfied, skipping upgrade: multitasking>=0.0.7 in /usr/local/lib/python3.6/dist-packages (from yfinance) (0.0.9)\n",
            "Collecting lxml>=4.5.1\n",
            "\u001b[?25l  Downloading https://files.pythonhosted.org/packages/64/28/0b761b64ecbd63d272ed0e7a6ae6e4402fc37886b59181bfdf274424d693/lxml-4.6.1-cp36-cp36m-manylinux1_x86_64.whl (5.5MB)\n",
            "\u001b[K     |████████████████████████████████| 5.5MB 3.9MB/s \n",
            "\u001b[?25hRequirement already satisfied, skipping upgrade: python-dateutil>=2.7.3 in /usr/local/lib/python3.6/dist-packages (from pandas>=0.24->yfinance) (2.8.1)\n",
            "Requirement already satisfied, skipping upgrade: pytz>=2017.2 in /usr/local/lib/python3.6/dist-packages (from pandas>=0.24->yfinance) (2018.9)\n",
            "Requirement already satisfied, skipping upgrade: chardet<4,>=3.0.2 in /usr/local/lib/python3.6/dist-packages (from requests>=2.20->yfinance) (3.0.4)\n",
            "Requirement already satisfied, skipping upgrade: idna<3,>=2.5 in /usr/local/lib/python3.6/dist-packages (from requests>=2.20->yfinance) (2.10)\n",
            "Requirement already satisfied, skipping upgrade: certifi>=2017.4.17 in /usr/local/lib/python3.6/dist-packages (from requests>=2.20->yfinance) (2020.6.20)\n",
            "Requirement already satisfied, skipping upgrade: urllib3!=1.25.0,!=1.25.1,<1.26,>=1.21.1 in /usr/local/lib/python3.6/dist-packages (from requests>=2.20->yfinance) (1.24.3)\n",
            "Requirement already satisfied, skipping upgrade: six>=1.5 in /usr/local/lib/python3.6/dist-packages (from python-dateutil>=2.7.3->pandas>=0.24->yfinance) (1.15.0)\n",
            "Building wheels for collected packages: yfinance\n",
            "  Building wheel for yfinance (setup.py) ... \u001b[?25l\u001b[?25hdone\n",
            "  Created wheel for yfinance: filename=yfinance-0.1.55-py2.py3-none-any.whl size=22618 sha256=41e285f5b6d57e28a28c828b35a14a30f2a924464d019329c2d600956f334dbf\n",
            "  Stored in directory: /tmp/pip-ephem-wheel-cache-c0qzg911/wheels/04/98/cc/2702a4242d60bdc14f48b4557c427ded1fe92aedf257d4565c\n",
            "Successfully built yfinance\n",
            "Installing collected packages: lxml, yfinance\n",
            "  Found existing installation: lxml 4.2.6\n",
            "    Uninstalling lxml-4.2.6:\n",
            "      Successfully uninstalled lxml-4.2.6\n",
            "Successfully installed lxml-4.6.1 yfinance-0.1.55\n"
          ],
          "name": "stdout"
        }
      ]
    },
    {
      "cell_type": "markdown",
      "metadata": {
        "id": "ifdOf0OqR2E5"
      },
      "source": [
        "## Acessando a base de dados e criando arquivos históricos"
      ]
    },
    {
      "cell_type": "code",
      "metadata": {
        "id": "Ar6zTdOBTAwL"
      },
      "source": [
        "url_base = 'http://dados.cvm.gov.br/dados/CIA_ABERTA/DOC/ITR/DADOS/'"
      ],
      "execution_count": null,
      "outputs": []
    },
    {
      "cell_type": "markdown",
      "metadata": {
        "id": "QOhM2X0WSD9q"
      },
      "source": [
        "* criando uma lista com o nome de todos os arquivos"
      ]
    },
    {
      "cell_type": "code",
      "metadata": {
        "id": "11Sv_DLPI0hp",
        "outputId": "3e6e10da-1b40-4e19-ed86-a96828713ac6",
        "colab": {
          "base_uri": "https://localhost:8080/",
          "height": 191
        }
      },
      "source": [
        "arquivos_zip = []\n",
        "for ano in range(2011,2021):\n",
        "  arquivos_zip.append(f'itr_cia_aberta_{ano}.zip')\n",
        "\n",
        "arquivos_zip"
      ],
      "execution_count": null,
      "outputs": [
        {
          "output_type": "execute_result",
          "data": {
            "text/plain": [
              "['itr_cia_aberta_2011.zip',\n",
              " 'itr_cia_aberta_2012.zip',\n",
              " 'itr_cia_aberta_2013.zip',\n",
              " 'itr_cia_aberta_2014.zip',\n",
              " 'itr_cia_aberta_2015.zip',\n",
              " 'itr_cia_aberta_2016.zip',\n",
              " 'itr_cia_aberta_2017.zip',\n",
              " 'itr_cia_aberta_2018.zip',\n",
              " 'itr_cia_aberta_2019.zip',\n",
              " 'itr_cia_aberta_2020.zip']"
            ]
          },
          "metadata": {
            "tags": []
          },
          "execution_count": 23
        }
      ]
    },
    {
      "cell_type": "markdown",
      "metadata": {
        "id": "YAmzeqdySQfb"
      },
      "source": [
        "* fazendo o download de todos os arquivos"
      ]
    },
    {
      "cell_type": "code",
      "metadata": {
        "id": "dt2h-VTkg4j8"
      },
      "source": [
        "for arq in arquivos_zip:\n",
        "  wget.download(url_base+arq)"
      ],
      "execution_count": null,
      "outputs": []
    },
    {
      "cell_type": "markdown",
      "metadata": {
        "id": "z0X9bqTQSmVt"
      },
      "source": [
        "* extraindo os arquivos zip"
      ]
    },
    {
      "cell_type": "code",
      "metadata": {
        "id": "vDmuDRYANPRK"
      },
      "source": [
        "for arq in arquivos_zip:\n",
        "  ZipFile(arq, 'r').extractall('CVM')"
      ],
      "execution_count": null,
      "outputs": []
    },
    {
      "cell_type": "markdown",
      "metadata": {
        "id": "JueAaJX2Sr6K"
      },
      "source": [
        "* criandos arquivos históricos"
      ]
    },
    {
      "cell_type": "code",
      "metadata": {
        "id": "YyL31wqNN06_"
      },
      "source": [
        "#nomes = ['BPA_con', 'BPA_ind', 'BPP_con', 'BPP_ind', 'DFC_MD_con', 'DFC_MD_ind', 'DFC_MI_con', 'DFC_MI_ind', 'DMPL_con', 'DMPL_ind', 'DRE_con', 'DRE_ind', 'DVA_con', 'DVA_ind']\n",
        "nomes = ['DRE_con', 'DMPL_con']\n",
        "for nome in nomes:\n",
        "  arquivo = pd.DataFrame()\n",
        "  for ano in range(2011,2021):\n",
        "    arquivo = pd.concat([arquivo, pd.read_csv(f'CVM/itr_cia_aberta_{nome}_{ano}.csv', sep=';', decimal=',', encoding='ISO-8859-1')])\n",
        "\n",
        "  arquivo.to_csv(f'itr_cia_aberta_{nome}_2011-2021.csv', index=False)"
      ],
      "execution_count": null,
      "outputs": []
    },
    {
      "cell_type": "markdown",
      "metadata": {
        "id": "Bp_P3eNG7OZL"
      },
      "source": [
        "\n",
        "\n",
        "*   Selecionando demonstrações financeiras relevantes\n"
      ]
    },
    {
      "cell_type": "code",
      "metadata": {
        "id": "mG1uEw_SRcO4"
      },
      "source": [
        "dre = pd.read_csv('/content/itr_cia_aberta_DRE_con_2011-2021.csv')\n",
        "dmpl = pd.read_csv('/content/itr_cia_aberta_DMPL_con_2011-2021.csv')\n",
        "dre.to_csv('dre.csv')\n",
        "dmpl.to_csv('dmpl.csv')"
      ],
      "execution_count": null,
      "outputs": []
    },
    {
      "cell_type": "code",
      "metadata": {
        "id": "vADKnD7jvQ5I"
      },
      "source": [
        "dre = pd.read_csv('/content/drive/My Drive/demonstrativos/dre.csv')\n",
        "#dmpl = pd.read_csv('/content/drive/My Drive/demonstrativos/dmpl.csv')"
      ],
      "execution_count": null,
      "outputs": []
    },
    {
      "cell_type": "markdown",
      "metadata": {
        "id": "gLQhvKFy7Zpe"
      },
      "source": [
        "*   Função para coletar os dados de determinado demonstrativo financeiro (argumento demo) de determinada empresa(nome cia)\n",
        "\n"
      ]
    },
    {
      "cell_type": "code",
      "metadata": {
        "id": "f0VidUskBhGA"
      },
      "source": [
        "def filtro_empresa(demo, nome_cia):\n",
        "  df = demo[demo.DENOM_CIA == nome_cia]\n",
        "  df['DF_REFER'] = pd.to_datetime(df['DT_REFER'])\n",
        "  df = df.set_index(df['DT_REFER'])\n",
        "  df = df[df.ORDEM_EXERC == 'ÚLTIMO']\n",
        "  df = df[['CD_CVM','DT_INI_EXERC','ORDEM_EXERC','DT_FIM_EXERC','CD_CONTA','DS_CONTA','VL_CONTA']]\n",
        "  return df"
      ],
      "execution_count": null,
      "outputs": []
    },
    {
      "cell_type": "markdown",
      "metadata": {
        "id": "nDf1xl9W71d3"
      },
      "source": [
        "*   Função que coleta um dado(ex: receita) da dre. O argumento cd_conta é o códifo da conta como consta nos documentos da cvm."
      ]
    },
    {
      "cell_type": "code",
      "metadata": {
        "id": "0KbiKX_k3CPm",
        "outputId": "4a46b8cc-e676-44e2-faf7-a9546c37f762",
        "colab": {
          "base_uri": "https://localhost:8080/",
          "height": 87
        }
      },
      "source": [
        "'''def coleta_conta(cd_conta, demo, soma_movel):\n",
        "  df = demo[demo['CD_CONTA'] == cd_conta]\n",
        "  df = df.drop_duplicates(subset=['DT_INI_EXERC'])\n",
        "  df.index = pd.to_datetime(df.index)\n",
        "  if (soma_movel == True):\n",
        "    #Cálculo da média movel(4 periodos = 4 trimestres = 1 ano) do dado \n",
        "    df['VL_CONTA'] = df[['VL_CONTA']].rolling(4).sum()\n",
        "  df.dropna(inplace=True)\n",
        "  return df'''"
      ],
      "execution_count": null,
      "outputs": [
        {
          "output_type": "execute_result",
          "data": {
            "application/vnd.google.colaboratory.intrinsic+json": {
              "type": "string"
            },
            "text/plain": [
              "\"def coleta_conta(cd_conta, demo, media_movel):\\n  df = demo[demo['CD_CONTA'] == cd_conta]\\n  df = df.drop_duplicates(subset=['DT_INI_EXERC'])\\n  df.index = pd.to_datetime(df.index)\\n  if (media_movel == True):\\n    #Cálculo da média movel(4 periodos = 4 trimestres = 1 ano) do dado \\n    df['VL_CONTA'] = df[['VL_CONTA']].rolling(4).sum()\\n  df.dropna(inplace=True)\\n  return df\""
            ]
          },
          "metadata": {
            "tags": []
          },
          "execution_count": 31
        }
      ]
    },
    {
      "cell_type": "markdown",
      "metadata": {
        "id": "i1EXn3kj9VPh"
      },
      "source": [
        "*   Função que coleta os de fechamento dados do yahoo finance\n",
        "\n"
      ]
    },
    {
      "cell_type": "code",
      "metadata": {
        "id": "lSUIJcUUDTJX"
      },
      "source": [
        "def cotacoes(start,end,ticker_cia, interval, nome_cia):\n",
        "  ativo = pd.DataFrame()\n",
        "  ativo[[nome_cia]] = yf.download(ticker_cia, start = start, end = end, interval = interval)[[\"Adj Close\"]]\n",
        "  return ativo"
      ],
      "execution_count": null,
      "outputs": []
    },
    {
      "cell_type": "markdown",
      "metadata": {
        "id": "HbNgcNGU9e3O"
      },
      "source": [
        "*   Função para calcular qualquer indicador da forma (preço de uma ação)/(alguma coisa). ex: preço_da_ação/lucro_total, preço_da_ação/receita_total... \n",
        "\n"
      ]
    },
    {
      "cell_type": "code",
      "metadata": {
        "id": "3NQOHx6NA-DX"
      },
      "source": [
        "def multiplo(df, name, ativo, nome_cia):\n",
        "  ativo[name] = df['VL_CONTA']\n",
        "  ativo = ativo.join(df, how='outer')\n",
        "  ativo.fillna(method='ffill', inplace=True)\n",
        "  ativo['preco/'+ name] = ativo[nome_cia]/ativo[name]\n",
        "  return ativo[['preco/'+ name]]"
      ],
      "execution_count": null,
      "outputs": []
    },
    {
      "cell_type": "markdown",
      "metadata": {
        "id": "NQw8pmKa-DuK"
      },
      "source": [
        "*   Regressão linear\n"
      ]
    },
    {
      "cell_type": "code",
      "metadata": {
        "id": "Rm7Ss4u0_2KX"
      },
      "source": [
        "def linear(X,y):\n",
        "  regressor = LinearRegression()\n",
        "  regressor.fit(X, y)\n",
        "  y_pred = regressor.predict(X)\n",
        "  return X,y_pred"
      ],
      "execution_count": null,
      "outputs": []
    },
    {
      "cell_type": "markdown",
      "metadata": {
        "id": "fMaIFJuo-JWC"
      },
      "source": [
        "*   Regressão polinomial"
      ]
    },
    {
      "cell_type": "code",
      "metadata": {
        "id": "Zlc96FSUAqKk"
      },
      "source": [
        "def poli(X,y,degree):\n",
        "  X_seq = np.linspace(X.min(),X.max(),300).reshape(-1,1)\n",
        "  degree=2\n",
        "  polyreg=make_pipeline(PolynomialFeatures(degree),LinearRegression())\n",
        "  polyreg.fit(X,y)\n",
        "  y_pred = polyreg.predict(X_seq)\n",
        "  return X_seq, y_pred"
      ],
      "execution_count": null,
      "outputs": []
    },
    {
      "cell_type": "code",
      "metadata": {
        "id": "zuK4pKzBC-jp"
      },
      "source": [
        "def coleta_conta(cd_conta, demo, soma_movel):\n",
        "  df = demo[demo['CD_CONTA'] == cd_conta]\n",
        "  df = df.drop_duplicates(subset=['DT_INI_EXERC'])\n",
        "  df.index = pd.to_datetime(df.index)\n",
        "  if (soma_movel == True):\n",
        "    #Cálculo da soma movel(4 periodos = 4 trimestres = 1 ano) do dado \n",
        "    df['VL_CONTA'] = df[['VL_CONTA']].rolling(4).sum()\n",
        "  df.dropna(inplace=True)\n",
        "  return df"
      ],
      "execution_count": null,
      "outputs": []
    },
    {
      "cell_type": "markdown",
      "metadata": {
        "id": "LVDlmlDb-YR5"
      },
      "source": [
        "\n",
        "\n",
        "*   Coletar(e calcular) os dados de cada empresa e armazenar tudo em um dataframe\n",
        "\n"
      ]
    },
    {
      "cell_type": "code",
      "metadata": {
        "id": "d0GfEb421CUj",
        "outputId": "07bc25ae-f437-40a3-9149-2c3c6e3c0a03",
        "colab": {
          "base_uri": "https://localhost:8080/",
          "height": 538
        }
      },
      "source": [
        "#Empresas que serão analisadas\n",
        "tickers_cias = ['mrfg3.sa','ligt3.sa','tiet3.sa','hype3.sa','jbss3.sa','vivt3.sa','rail3.sa','card3.sa','brfs3.sa','neoe3.sa','engi3.sa','atom3.sa','elet3.sa','bbas3.sa','ciel3.sa','petr3.sa','vale3.sa','ggbr3.sa','lren3.sa', 'csna3.sa','bbdc3.sa','wege3.sa','grnd3.sa','cgra3.sa','qual3.sa','vvar3.sa','itub3.sa','cogn3.sa','suzb3.sa','rent3.sa','ntco3.sa']\n",
        "nomes_cias = ['MARFRIG GLOBAL FOODS S.A.','LIGHT S.A.','AES TIETE SA','HYPERA S.A.','JBS S.A.','VIVO PARTICIPAÇÕES SA','RUMO S.A.','CSU CARDSYSTEM S.A.','BRF S.A.','NEOENERGIA S.A.,''ENERGISA S.A.','ATOM EMPREENDIMENTOS E PARTICIPÇÕES S.A.','CENTRAIS ELET BRAS S.A. - ELETROBRAS','BCO BRASIL S.A.','CIELO S.A.','PETROLEO BRASILEIRO S.A. PETROBRAS','VALE S.A.','GERDAU S.A.','LOJAS RENNER S.A.','CIA SIDERURGICA NACIONAL','BCO BRADESCO S.A.','WEG S.A.','GRENDENE S.A.','GRAZZIOTIN S.A.','QUALICORP CONSULTORIA E CORRETORA DE SEGUROS S.A.', 'VIA VAREJO S.A.','ITAU UNIBANCO HOLDING S.A.','COGNA EDUCAÇÃO S.A.','SUZANO HOLDING S.A.','LOCALIZA RENT A CAR S.A.','NATURA COSMETICOS S.A.']\n",
        "\n",
        "#tickers_cias = ['lren3.sa']\n",
        "#nomes_cias = ['LOJAS RENNER S.A.']\n",
        "\n",
        "numero_empresas = len(nomes_cias)\n",
        "\n",
        "#Variavel que servira como o prazo que será analisado. É o número de dias para o qual o retorno acumulado será calculado.\n",
        "#É esperado que quando o prazo é muito baixo, não existe padrão.\n",
        "#Para períodos muito altos, ficamos com uma amostra pequena demais, o que impossibilita tirar qualquer conclusão.\n",
        "anos = 4.\n",
        "#1 ano são aproximadamente 250 dias de negociação na bolsa\n",
        "window = int(anos*250)\n",
        "\n",
        "df = pd.DataFrame()\n",
        "#loop sobre todas empresas\n",
        "for i in range (0, numero_empresas):\n",
        "\n",
        "  #importando a informação dos demonstrativos financeiros de cada empresa\n",
        "  dre_df = filtro_empresa(demo = dre, nome_cia = nomes_cias[i])\n",
        "  dmpl_df = filtro_empresa(demo = dmpl, nome_cia = nomes_cias[i])  \n",
        "  \n",
        "  #coluna 0 (cotacoes de cada ativo)\n",
        "  df[[nomes_cias[i]]] = cotacoes(start = '2010-01-01', end = '2020-09-01', ticker_cia=tickers_cias[i], interval='1d', nome_cia = nomes_cias[i])\n",
        "  \n",
        "  #coletando os dados relevantes de cada demonstrativo\n",
        "  df_receita = coleta_conta(cd_conta = '3.01', demo = dre_df, soma_movel= True)\n",
        "  df_pat_liq = coleta_conta(cd_conta = '5.01', demo = dmpl_df, soma_movel=False)\n",
        "  df_ebit = coleta_conta(cd_conta = '3.05', demo = dre_df, soma_movel = True)\n",
        "  df_lpa = coleta_conta(cd_conta = '3.99.01.01', demo = dre_df, soma_movel = False)\n",
        "  df_lucro = coleta_conta(cd_conta = '3.11', demo = dre_df, soma_movel = False)\n",
        "  #wtf?\n",
        "  df_lpa = df_lpa.iloc[1:]\n",
        "  \n",
        "  #coluna 1(retorno diario)\n",
        "  df[nomes_cias[i]+'_retorno'] = df[nomes_cias[i]].pct_change()\n",
        "  \n",
        "  #coluna 2(retorno acumulado que dará nos proximos n dias, sendo n = window)\n",
        "  df[nomes_cias[i]+'_retorno_acumulado'] = (1+df[nomes_cias[i]+'_retorno']).shift(-window).rolling(window=window).apply(np.prod, raw=True)\n",
        "  \n",
        "  #coluna 3(preço da ação/ receita total)\n",
        "  df[nomes_cias[i]+'_preco/receita'] = multiplo(df = df_receita, name = 'receita', ativo = df[[nomes_cias[i]]], nome_cia = nomes_cias[i])\n",
        "  \n",
        "  #coluna 4(preço da açãão/patrimonio liquido total)\n",
        "  df[nomes_cias[i]+'_preco/pat_liq'] = multiplo(df = df_pat_liq, name = 'pat_liq', ativo = df[[nomes_cias[i]]], nome_cia = nomes_cias[i])\n",
        "  \n",
        "  #coluna 5(preço da ação/ebit total)\n",
        "  df[nomes_cias[i]+'_preco/ebit'] = multiplo(df = df_ebit, name = 'ebit', ativo = df[[nomes_cias[i]]], nome_cia = nomes_cias[i])\n",
        "  \n",
        "  #coluna 6(variancia)\n",
        "  df[nomes_cias[i]+'_variancia'] = (df[nomes_cias[i]].shift(-window).rolling(window=window)).var()\n",
        "  \n",
        "  #coluna 7 (preco/lucro)\n",
        "  #df[nomes_cias[i]+'_preco/lpa'] = multiplo(df = df_lpa, name = 'lpa', ativo = df[[nomes_cias[i]]], nome_cia = nomes_cias[i])\n"
      ],
      "execution_count": null,
      "outputs": [
        {
          "output_type": "stream",
          "text": [
            "[*********************100%***********************]  1 of 1 completed\n",
            "[*********************100%***********************]  1 of 1 completed\n",
            "[*********************100%***********************]  1 of 1 completed\n",
            "[*********************100%***********************]  1 of 1 completed\n",
            "[*********************100%***********************]  1 of 1 completed\n",
            "[*********************100%***********************]  1 of 1 completed\n",
            "[*********************100%***********************]  1 of 1 completed\n",
            "[*********************100%***********************]  1 of 1 completed\n",
            "[*********************100%***********************]  1 of 1 completed\n",
            "[*********************100%***********************]  1 of 1 completed\n",
            "[*********************100%***********************]  1 of 1 completed\n",
            "[*********************100%***********************]  1 of 1 completed\n",
            "[*********************100%***********************]  1 of 1 completed\n",
            "[*********************100%***********************]  1 of 1 completed\n",
            "[*********************100%***********************]  1 of 1 completed\n",
            "[*********************100%***********************]  1 of 1 completed\n",
            "[*********************100%***********************]  1 of 1 completed\n",
            "[*********************100%***********************]  1 of 1 completed\n",
            "[*********************100%***********************]  1 of 1 completed\n",
            "[*********************100%***********************]  1 of 1 completed\n",
            "[*********************100%***********************]  1 of 1 completed\n",
            "[*********************100%***********************]  1 of 1 completed\n",
            "[*********************100%***********************]  1 of 1 completed\n",
            "[*********************100%***********************]  1 of 1 completed\n",
            "[*********************100%***********************]  1 of 1 completed\n",
            "[*********************100%***********************]  1 of 1 completed\n",
            "[*********************100%***********************]  1 of 1 completed\n",
            "[*********************100%***********************]  1 of 1 completed\n",
            "[*********************100%***********************]  1 of 1 completed\n",
            "[*********************100%***********************]  1 of 1 completed\n"
          ],
          "name": "stdout"
        }
      ]
    },
    {
      "cell_type": "markdown",
      "metadata": {
        "id": "SvXsD9pe-Y5K"
      },
      "source": [
        "*   Calculando os dados pela carteira formada pelas ações selecionadas previamente\n"
      ]
    },
    {
      "cell_type": "code",
      "metadata": {
        "id": "GZgBM1-bkG_p"
      },
      "source": [
        "numero_colunas = len(df.columns)\n",
        "step = numero_colunas/numero_empresas\n",
        "\n",
        "#Definição da variavel carteira, que ira armazenar os dados relevantes do agregado de ações\n",
        "carteira = pd.DataFrame()\n",
        "#Calculamos a média de cada coluna, na pratica isso significa uma distribuição com pesos iguais para cada ativo(1/n)\n",
        "carteira['retorno_acumulado'] = df.iloc[:,np.arange(2,df.shape[1],step = step)].mean(axis=1)\n",
        "carteira['preco/receita'] = df.iloc[:,np.arange(3,df.shape[1],step = step)].mean(axis=1)\n",
        "carteira['preco/pat_liq'] = df.iloc[:,np.arange(4,df.shape[1],step = step)].mean(axis=1)\n",
        "carteira['preco/ebit'] = df.iloc[:,np.arange(5,df.shape[1],step = step)].mean(axis=1)\n",
        "#carteira['preco/lpa'] = df.iloc[:,np.arange(7,df.shape[1],step = step)].mean(axis=1)"
      ],
      "execution_count": null,
      "outputs": []
    },
    {
      "cell_type": "markdown",
      "metadata": {
        "id": "fqImEAB9AdoR"
      },
      "source": [
        "*   Plot dos gráficos\n",
        "\n",
        "\n"
      ]
    },
    {
      "cell_type": "code",
      "metadata": {
        "id": "HfYBqxvmZ79y",
        "outputId": "6de5abee-fc2b-467e-abb2-4a0425506708",
        "colab": {
          "base_uri": "https://localhost:8080/",
          "height": 491
        }
      },
      "source": [
        "sns.set()\n",
        "fig, axs = plt.subplots(figsize=(7.5,7.5), facecolor='w', edgecolor='k')\n",
        "from sklearn.preprocessing import MinMaxScaler\n",
        "\n",
        "#Normalizaçãão dos multiplos\n",
        "carteira['std_preco/pat_liq'] = MinMaxScaler().fit_transform(carteira[['preco/pat_liq']])\n",
        "carteira['std_preco/ebit'] = MinMaxScaler().fit_transform(carteira[['preco/ebit']])\n",
        "carteira['std_preco/receita'] =MinMaxScaler().fit_transform(carteira[['preco/receita']])\n",
        "#carteira['std_preco/lpa'] =MinMaxScaler().fit_transform(carteira[['preco/lpa']])\n",
        "\n",
        "carteira['retorno_acumulado_anualizado'] = carteira['retorno_acumulado']**(1/anos)\n",
        "\n",
        "#Definição indicador que benjamin graham usava 22,5*sqrt((p/l)*(p/vp))\n",
        "carteira['graham'] = (carteira['preco/receita']*carteira['preco/pat_liq']*carteira['preco/ebit'])**1/3\n",
        "carteira['std_graham'] = MinMaxScaler().fit_transform(carteira[['graham']])\n",
        "\n",
        "#definições para fazer a regressãão polinimial/linear\n",
        "my_df = carteira[['std_preco/receita','retorno_acumulado_anualizado']].dropna()\n",
        "X = pd.DataFrame(my_df.iloc[:,0])\n",
        "y = pd.DataFrame(my_df.iloc[:,1])\n",
        "\n",
        "#Regressão linear\n",
        "X,y_pred = linear(X,y)\n",
        "axs.plot(X, y_pred, color = 'blue')\n",
        "  \n",
        "#Regressao polinomial\n",
        "X_seq,y_pred2 = poli(X,y,degree = 3)\n",
        "axs.plot(X_seq,y_pred2,color=\"black\")\n",
        "\n",
        "#plots\n",
        "#axs.scatter(y = carteira['retorno_acumulado_anualizado'],x = carteira['std_preco/lpa'], marker='o', color='green', label = 'preco/lucro', alpha =0.5)\n",
        "#axs.scatter(y = carteira['retorno_acumulado_anualizado'],x = carteira['std_preco/ebit'], marker='o', color='blue', label = 'preco/ebit',alpha =0.5)\n",
        "#axs.scatter(y = carteira['retorno_acumulado_anualizado'],x = carteira['std_preco/pat_liq'], marker='o', color='green', label = 'Preco/pat_liq', alpha =0.5)\n",
        "axs.scatter(y = carteira['retorno_acumulado_anualizado'],x = carteira['std_preco/receita'], marker='o', color='red', label = 'Preco/receita', alpha =0.5)\n",
        "#axs.scatter(y = carteira['retorno_acumulado_anualizado'],x = carteira['std_graham'], marker='o', color='red', label = 'Graham', alpha =0.5)\n",
        "\n",
        "#axs.axvline(x=carteira['std_preco/receita'].iloc[-1],label = \"Nivel atual\", color = 'red', alpha =0.5)\n",
        "#axs.axvline(x=carteira['std_preco/pat_liq'].iloc[-1],label = \"Nivel atual\", color = 'green', alpha =0.5)\n",
        "#axs.axvline(x=carteira['std_preco/ebit'].iloc[-1],label = \"Nivel atual\", color = 'blue', alpha =0.5)\n",
        "#axs.axvline(x=carteira['std_graham'].iloc[-1],label = \"Nivel atual\", color = 'red', alpha =0.5)\n",
        "\n",
        "\n",
        "#legendas  \n",
        "axs.set_title('Retorno médio anualizado {} anos de negociação VS indicadores'.format(anos), fontsize=12, fontweight =\"bold\")\n",
        "axs.set_xlabel(\"Indicador Normalizado\")\n",
        "axs.set_ylabel(\"Retorno médio anualizado\")\n",
        "axs.legend()\n",
        "\n",
        "axs=axs"
      ],
      "execution_count": null,
      "outputs": [
        {
          "output_type": "display_data",
          "data": {
            "image/png": "[encoded data removed]",
            "text/plain": [
              "<Figure size 540x540 with 1 Axes>"
            ]
          },
          "metadata": {
            "tags": []
          }
        }
      ]
    },
    {
      "cell_type": "code",
      "metadata": {
        "id": "s8o1dCDa4xQT"
      },
      "source": [
        "carteira.to_csv('carteira.csv')"
      ],
      "execution_count": null,
      "outputs": []
    }
  ]
}